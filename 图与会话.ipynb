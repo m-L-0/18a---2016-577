{
 "cells": [
  {
   "cell_type": "markdown",
   "metadata": {},
   "source": [
    "1.在一个notebook文件中构建一张图，实现两个数的加法操作，并在两个不同的会话中执行图。"
   ]
  },
  {
   "cell_type": "code",
   "execution_count": 2,
   "metadata": {},
   "outputs": [],
   "source": [
    "import tensorflow as tf"
   ]
  },
  {
   "cell_type": "code",
   "execution_count": 6,
   "metadata": {},
   "outputs": [],
   "source": [
    "with tf.Graph().as_default() as g:\n",
    "    a = tf.add(1,2)"
   ]
  },
  {
   "cell_type": "code",
   "execution_count": 7,
   "metadata": {},
   "outputs": [
    {
     "name": "stdout",
     "output_type": "stream",
     "text": [
      "3\n"
     ]
    }
   ],
   "source": [
    "with tf.Session(graph = g) as sess1:\n",
    "    print(sess1.run(a))"
   ]
  },
  {
   "cell_type": "code",
   "execution_count": 8,
   "metadata": {},
   "outputs": [
    {
     "name": "stdout",
     "output_type": "stream",
     "text": [
      "3\n"
     ]
    }
   ],
   "source": [
    "with tf.Session(graph = g) as sess2:\n",
    "    print(sess2.run(a))"
   ]
  },
  {
   "cell_type": "markdown",
   "metadata": {},
   "source": [
    "2.查找资料学习TensorFlow中执行常量基本运算API的基本用法，如tf.add、tf.subtract、tf.multiply、tf.divide、tf.mod、tf.pow、tf.square、tf.sqrt等的用法，并在notebook中演示其基本用法。"
   ]
  },
  {
   "cell_type": "code",
   "execution_count": 13,
   "metadata": {},
   "outputs": [
    {
     "name": "stdout",
     "output_type": "stream",
     "text": [
      "[3, -1, 2, 0, 1, 1, 4, 2.0, 0.84147096, 0.5403023, 1, 2]\n"
     ]
    }
   ],
   "source": [
    "with tf.Graph().as_default() as g1:\n",
    "    a = tf.add(1,2)          #两数之和\n",
    "    b = tf.subtract(1,2)     #两数之差\n",
    "    c = tf.multiply(1,2)     #两数相乘\n",
    "    d = tf.div(1,2)          #除法\n",
    "    e = tf.mod(1,2)          #取模\n",
    "    f = tf.pow(1,2)          #x=1 y=2  x的y次方\n",
    "    g = tf.square(2)         #平方\n",
    "    h = tf.sqrt(4.0)         #开方\n",
    "    i = tf.sin(1.0)          #sin值\n",
    "    j = tf.cos(1.0)          #cos值\n",
    "    k = tf.minimum(1,2)      #x=1 y=2 (i.e. x > y ? x : y)\n",
    "    l = tf.maximum(1,2)      #x=1 y=2 (i.e. x < y ? x : y)\n",
    "    \n",
    "with tf.Session(graph=g1) as sess:\n",
    "    print(sess.run([a,b,c,d,e,f,g,h,i,j,k,l]))"
   ]
  },
  {
   "cell_type": "code",
   "execution_count": null,
   "metadata": {},
   "outputs": [],
   "source": []
  }
 ],
 "metadata": {
  "kernelspec": {
   "display_name": "Python 3",
   "language": "python",
   "name": "python3"
  },
  "language_info": {
   "codemirror_mode": {
    "name": "ipython",
    "version": 3
   },
   "file_extension": ".py",
   "mimetype": "text/x-python",
   "name": "python",
   "nbconvert_exporter": "python",
   "pygments_lexer": "ipython3",
   "version": "3.6.5"
  }
 },
 "nbformat": 4,
 "nbformat_minor": 2
}
