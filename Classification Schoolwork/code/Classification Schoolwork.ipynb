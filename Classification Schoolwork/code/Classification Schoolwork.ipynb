{
 "cells": [
  {
   "cell_type": "code",
   "execution_count": 1,
   "metadata": {},
   "outputs": [],
   "source": [
    "#导入需要的各种包\n",
    "import scipy.io as sio\n",
    "import matplotlib.pyplot as plt\n",
    "import numpy as np\n",
    "from spectral import *\n",
    "import os\n",
    "\n",
    "from sklearn.model_selection import train_test_split\n",
    "from sklearn.svm import SVC\n",
    "from sklearn.preprocessing import StandardScaler"
   ]
  },
  {
   "cell_type": "code",
   "execution_count": 2,
   "metadata": {},
   "outputs": [],
   "source": [
    "#读取数据集\n",
    "data = np.array([])\n",
    "target = np.array([])\n",
    "n=0\n",
    "for i in os.listdir('9个类别的数据集-train/'):\n",
    "    a,b=os.path.splitext(i)\n",
    "    new=sio.loadmat('9个类别的数据集-train/'+i)[a]\n",
    "    for j in range(new.shape[0]):\n",
    "        target=np.append(target,n)\n",
    "    data = np.append(data,new)\n",
    "    n=n+1\n",
    "data = np.reshape(data,(-1,200))\n",
    "target = np.reshape(target,(-1,1))"
   ]
  },
  {
   "cell_type": "code",
   "execution_count": 3,
   "metadata": {},
   "outputs": [],
   "source": [
    "#划分数据集\n",
    "xtrain,xdev,ytrain,ydev=train_test_split(data,target,test_size=0.2)"
   ]
  },
  {
   "cell_type": "code",
   "execution_count": 4,
   "metadata": {},
   "outputs": [],
   "source": [
    "#数据预处理 归一化\n",
    "scaler=StandardScaler()\n",
    "scaler.fit(xtrain)\n",
    "xtrain=scaler.transform(xtrain)\n",
    "xdev=scaler.transform(xdev)"
   ]
  },
  {
   "cell_type": "code",
   "execution_count": 6,
   "metadata": {},
   "outputs": [
    {
     "name": "stdout",
     "output_type": "stream",
     "text": [
      "Test set score:0.93\n",
      "Best parameters:{'C': 10, 'gamma': 0.01}\n"
     ]
    }
   ],
   "source": [
    "#用SVM训练模型 格点搜索 选取最优参数\n",
    "from sklearn.svm import SVC\n",
    "from sklearn.model_selection import GridSearchCV\n",
    "param_grid = {\"gamma\":[1, 0.1, 0.01],\"C\":[0.1, 1, 10]}\n",
    "grid_search = GridSearchCV(SVC(),param_grid,cv=5) \n",
    "grid_search.fit(xtrain,ytrain.ravel()) \n",
    "print(\"Test set score:{:.2f}\".format(grid_search.score(xdev,ydev)))\n",
    "print(\"Best parameters:{}\".format(grid_search.best_params_))"
   ]
  },
  {
   "cell_type": "code",
   "execution_count": 180,
   "metadata": {},
   "outputs": [
    {
     "name": "stderr",
     "output_type": "stream",
     "text": [
      "D:\\anaconda\\lib\\site-packages\\sklearn\\utils\\validation.py:578: DataConversionWarning: A column-vector y was passed when a 1d array was expected. Please change the shape of y to (n_samples, ), for example using ravel().\n",
      "  y = column_or_1d(y, warn=True)\n"
     ]
    },
    {
     "name": "stdout",
     "output_type": "stream",
     "text": [
      "0.9523465703971119\n"
     ]
    }
   ],
   "source": [
    "#构建模型并对模型进行预测\n",
    "from sklearn.metrics import accuracy_score\n",
    "svc = SVC(C=10,gamma=0.01,class_weight='balanced')\n",
    "svc.fit(xtrain,ytrain)\n",
    "ypred = svc.predict(xdev)\n",
    "print(accuracy_score(ydev,ypred))"
   ]
  },
  {
   "cell_type": "code",
   "execution_count": 181,
   "metadata": {},
   "outputs": [],
   "source": [
    "#导入测试集预处理\n",
    "test_data = sio.loadmat(\"data_test_final.mat\")['data_test_final']\n",
    "test_data = np.array(test_data, dtype=np.float64)\n",
    "xtest = scaler.transform(test_data)"
   ]
  },
  {
   "cell_type": "code",
   "execution_count": 182,
   "metadata": {},
   "outputs": [],
   "source": [
    "#生成测试集预测标签并导出csv文件进行保存\n",
    "import pandas as pd\n",
    "ytest = svc.predict(xtest)\n",
    "data = pd.DataFrame(ytest)\n",
    "data.to_csv(\"ytest.csv\")"
   ]
  },
  {
   "cell_type": "code",
   "execution_count": null,
   "metadata": {},
   "outputs": [],
   "source": []
  }
 ],
 "metadata": {
  "kernelspec": {
   "display_name": "Python 3",
   "language": "python",
   "name": "python3"
  },
  "language_info": {
   "codemirror_mode": {
    "name": "ipython",
    "version": 3
   },
   "file_extension": ".py",
   "mimetype": "text/x-python",
   "name": "python",
   "nbconvert_exporter": "python",
   "pygments_lexer": "ipython3",
   "version": "3.6.4"
  }
 },
 "nbformat": 4,
 "nbformat_minor": 2
}
