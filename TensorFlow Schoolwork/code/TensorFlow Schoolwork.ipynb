{
 "cells": [
  {
   "cell_type": "code",
   "execution_count": 10,
   "metadata": {},
   "outputs": [],
   "source": [
    "#导入各种包\n",
    "import tensorflow as tf\n",
    "import numpy as np\n",
    "from sklearn.datasets import load_iris\n",
    "import matplotlib.pyplot as plt"
   ]
  },
  {
   "cell_type": "code",
   "execution_count": 11,
   "metadata": {},
   "outputs": [],
   "source": [
    "#导入鸢尾花数据集\n",
    "iris = load_iris()\n",
    "data = iris.data\n",
    "label = iris.target"
   ]
  },
  {
   "cell_type": "code",
   "execution_count": 12,
   "metadata": {},
   "outputs": [],
   "source": [
    "#将鸢尾花数据集安装8 : 2的比例划分成训练集与验证集\n",
    "from sklearn.model_selection import train_test_split\n",
    "Xtrain, Xtest, Ytrain, Ytest = train_test_split(data,label,test_size=0.2,shuffle=True)"
   ]
  },
  {
   "cell_type": "code",
   "execution_count": 13,
   "metadata": {},
   "outputs": [],
   "source": [
    "#创建占位符 \n",
    "xtr = tf.placeholder(\"float\", shape=[None, 4])    #None代表可选取多个样本数，4表示特征数\n",
    "xte = tf.placeholder(\"float\", shape=[4])"
   ]
  },
  {
   "cell_type": "code",
   "execution_count": 14,
   "metadata": {},
   "outputs": [],
   "source": [
    "#计算欧式距离\n",
    "distance = tf.reduce_sum(tf.abs(tf.add(xtr, tf.negative(xte))), reduction_indices=1)"
   ]
  },
  {
   "cell_type": "code",
   "execution_count": 15,
   "metadata": {},
   "outputs": [
    {
     "name": "stdout",
     "output_type": "stream",
     "text": [
      "K值为0时准确率为40.00%\n",
      "K值为1时准确率为100.00%\n",
      "K值为2时准确率为93.33%\n",
      "K值为3时准确率为100.00%\n",
      "K值为4时准确率为100.00%\n",
      "K值为5时准确率为96.67%\n",
      "K值为6时准确率为96.67%\n",
      "K值为7时准确率为96.67%\n",
      "K值为8时准确率为93.33%\n",
      "K值为9时准确率为93.33%\n",
      "K值为10时准确率为93.33%\n",
      "K值为11时准确率为93.33%\n",
      "K值为12时准确率为93.33%\n",
      "K值为13时准确率为93.33%\n",
      "K值为14时准确率为93.33%\n",
      "K值为15时准确率为93.33%\n",
      "K值为16时准确率为93.33%\n",
      "K值为17时准确率为93.33%\n",
      "K值为18时准确率为93.33%\n",
      "K值为19时准确率为93.33%\n",
      "K值为20时准确率为90.00%\n"
     ]
    }
   ],
   "source": [
    "#开启会话\n",
    "with tf.Session() as sess:\n",
    "#选定k值范围是0到20\n",
    "    for K in range(21):\n",
    "        predict=[]#保存预测结果\n",
    "        for i in range(len(Xtest)):\n",
    "            dist_mat=sess.run(distance,feed_dict={xtr:Xtrain,xte:Xtest[i]})\n",
    "            #取预测样本的前k个近邻进行投票表决\n",
    "            knn_idx = np.argsort(dist_mat)[:K]\n",
    "            classes = [0, 0, 0]\n",
    "            for idx in knn_idx:\n",
    "                if(Ytrain[idx]==0):\n",
    "                    classes[0] += 1\n",
    "                elif(Ytrain[idx]==1):\n",
    "                    classes[1] += 1\n",
    "                else:\n",
    "                    classes[2] += 1\n",
    "            Ypred = np.argmax(classes)#预测结果\n",
    "            predict.append(Ypred)\n",
    "        Ypred = predict\n",
    "        Ytrue = Ytest\n",
    "        acc = np.sum(np.equal(Ypred,Ytrue)) / len(Ytrue)#计算正确率\n",
    "        print(\"K值为\"+str(K)+\"时准确率为%.2f%%\"%(acc*100))\n",
    "        #print(Ypred)#输出20个K值的预测结果"
   ]
  },
  {
   "cell_type": "code",
   "execution_count": null,
   "metadata": {},
   "outputs": [],
   "source": []
  }
 ],
 "metadata": {
  "kernelspec": {
   "display_name": "Python 3",
   "language": "python",
   "name": "python3"
  },
  "language_info": {
   "codemirror_mode": {
    "name": "ipython",
    "version": 3
   },
   "file_extension": ".py",
   "mimetype": "text/x-python",
   "name": "python",
   "nbconvert_exporter": "python",
   "pygments_lexer": "ipython3",
   "version": "3.6.4"
  }
 },
 "nbformat": 4,
 "nbformat_minor": 2
}
